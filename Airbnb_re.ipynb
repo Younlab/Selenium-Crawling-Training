{
 "cells": [
  {
   "cell_type": "code",
   "execution_count": 1,
   "metadata": {},
   "outputs": [],
   "source": [
    "import re\n",
    "import json\n",
    "from bs4 import BeautifulSoup\n",
    "import requests\n",
    "import os\n",
    "import urllib3\n",
    "\n",
    "city_list = ['서울특별시', '부산광역시', '대구광역시', '인천광역시',\n",
    "                '광주광역시', '대전광역시', '울산광역시', '세종특별자치시',\n",
    "                '경기도', '강원도']\n",
    "\n",
    "def page_source_save():\n",
    "    for city in city_list:        \n",
    "        for repeat in range(1,5):\n",
    "#             source_url = 'https://www.airbnb.co.kr/s/'\n",
    "#             source_url_params = {\n",
    "#                 'homes?query=':city,\n",
    "#                 '&section_offset=':repeat,\n",
    "#             }\n",
    "            source_url = f'https://www.airbnb.co.kr/s/homes?query={city}&section_offset={repeat}'\n",
    "            source_path = f'/Users/sh/Documents/Project/Selenium-crawling-training/source/rooms/airbnb_{city}.html'\n",
    "            \n",
    "            response = requests.get(source_url)\n",
    "            html = response.text\n",
    "            soup = BeautifulSoup(html, 'lxml')\n",
    "            detail_room_id_list = []\n",
    "            detail_room_id_parse = soup.select('div._v72lrv > div > a')\n",
    "            \n",
    "            for repeat_id in detail_room_id_parse:\n",
    "                detail_room_id_list.append(repeat_id.get('href'))\n",
    "                \n",
    "            print(detail_room_id_list)\n",
    "            print(f'{repeat}')\n",
    "            \n",
    "#         if os.path.exists(source_path) == True:\n",
    "#             html = open(source_path, 'rt').read()\n",
    "#             print(source_path, '읽어오기 성공')\n",
    "#         else:\n",
    "#             response = requests.get(source_url, source_url_params)\n",
    "#             html = response.text\n",
    "#             html = open(source_path, 'wt').write(html)\n",
    "#             print(source_path, '저장 성공')\n",
    "        \n",
    "def comp():\n",
    "        source = 'https://www.airbnb.co.kr/rooms/17120125'\n",
    "        response = requests.get(source)\n",
    "        html = response.text\n",
    "        html = open('/Users/sh/Documents/Project/Selenium-crawling-training/source/rooms/file2.html', 'wt').write(html)\n",
    "        \n",
    "# page_source_save()\n",
    "comp()"
   ]
  }
 ],
 "metadata": {
  "kernelspec": {
   "display_name": "Python 3",
   "language": "python",
   "name": "python3"
  },
  "language_info": {
   "codemirror_mode": {
    "name": "ipython",
    "version": 3
   },
   "file_extension": ".py",
   "mimetype": "text/x-python",
   "name": "python",
   "nbconvert_exporter": "python",
   "pygments_lexer": "ipython3",
   "version": "3.7.0"
  }
 },
 "nbformat": 4,
 "nbformat_minor": 2
}
